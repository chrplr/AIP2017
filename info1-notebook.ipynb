{
 "cells": [
  {
   "cell_type": "markdown",
   "metadata": {
    "collapsed": true
   },
   "source": [
    "# Manipuler du texte en python"
   ]
  },
  {
   "cell_type": "markdown",
   "metadata": {},
   "source": [
    "Faire la traduction des couleurs avec un vrai dictionnaire : \n",
    "\n",
    "A l'aide d'un object de type dictionnaire, écrire un bout de code qui effectue la traduction des 'red', 'blue', 'green', 'pink', 'yellow' en français. Puis le transformer en fonction."
   ]
  },
  {
   "cell_type": "code",
   "execution_count": null,
   "metadata": {
    "collapsed": true
   },
   "outputs": [],
   "source": [
    "dico = {'red':'rouge', 'blue':'bleu', 'green':'vert', 'pink':'rose', 'yellow':'jaune'}\n",
    "print(dico['red'])"
   ]
  },
  {
   "cell_type": "markdown",
   "metadata": {},
   "source": [
    "-------------------------\n",
    "\n",
    "Un dictionnaire est-il modifiable ?\n",
    "\n",
    "Nous avons vu que le tuple n'est pas modifiable.\n",
    "Testez si c'est le cas pour un dictionnaire."
   ]
  },
  {
   "cell_type": "code",
   "execution_count": null,
   "metadata": {
    "collapsed": true
   },
   "outputs": [],
   "source": [
    "a = (1, 2, 3)\n",
    "a[0]=10\n",
    "\n",
    "placard = {\"chemise\":3, \"pantalon\":6, \"tee-shirt\":7}\n",
    "placard[\"chemise\"] = 10"
   ]
  },
  {
   "cell_type": "markdown",
   "metadata": {},
   "source": [
    "Le dictionnaire un object modifiable une fois créé (ou `mutable` en anglais). Il n'est pas `immuable`."
   ]
  },
  {
   "cell_type": "code",
   "execution_count": null,
   "metadata": {
    "collapsed": true
   },
   "outputs": [],
   "source": []
  }
 ],
 "metadata": {
  "kernelspec": {
   "display_name": "Python 3",
   "language": "python",
   "name": "python3"
  },
  "language_info": {
   "codemirror_mode": {
    "name": "ipython",
    "version": 2
   },
   "file_extension": ".py",
   "mimetype": "text/x-python",
   "name": "python",
   "nbconvert_exporter": "python",
   "pygments_lexer": "ipython2",
   "version": "2.7.6"
  }
 },
 "nbformat": 4,
 "nbformat_minor": 1
}
